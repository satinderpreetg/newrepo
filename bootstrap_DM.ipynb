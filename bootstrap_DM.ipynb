{
 "cells": [
  {
   "cell_type": "markdown",
   "id": "41c8246b",
   "metadata": {},
   "source": [
    "# bootstrap_DM.ipynb"
   ]
  },
  {
   "cell_type": "markdown",
   "id": "9596d2a6",
   "metadata": {},
   "source": [
    "Example of uncertainty analysis on mass estimate of dark-matter free galaxy NGC 1052-DF2, using bootstrapping."
   ]
  },
  {
   "cell_type": "code",
   "execution_count": 1,
   "id": "eb927dde",
   "metadata": {},
   "outputs": [],
   "source": [
    "import numpy as np\n",
    "import matplotlib.pyplot as plt\n",
    "from sklearn.utils import resample\n",
    "# sklearn used to have cross_validation.Bootstrap but not anymore\n",
    "import pandas as pd"
   ]
  },
  {
   "cell_type": "code",
   "execution_count": 2,
   "id": "9657f733",
   "metadata": {},
   "outputs": [
    {
     "data": {
      "text/html": [
       "<div>\n",
       "<style scoped>\n",
       "    .dataframe tbody tr th:only-of-type {\n",
       "        vertical-align: middle;\n",
       "    }\n",
       "\n",
       "    .dataframe tbody tr th {\n",
       "        vertical-align: top;\n",
       "    }\n",
       "\n",
       "    .dataframe thead th {\n",
       "        text-align: right;\n",
       "    }\n",
       "</style>\n",
       "<table border=\"1\" class=\"dataframe\">\n",
       "  <thead>\n",
       "    <tr style=\"text-align: right;\">\n",
       "      <th></th>\n",
       "      <th>ID</th>\n",
       "      <th>cz</th>\n",
       "      <th>+/-</th>\n",
       "    </tr>\n",
       "  </thead>\n",
       "  <tbody>\n",
       "    <tr>\n",
       "      <th>0</th>\n",
       "      <td>39</td>\n",
       "      <td>1818</td>\n",
       "      <td>7.0</td>\n",
       "    </tr>\n",
       "    <tr>\n",
       "      <th>1</th>\n",
       "      <td>59</td>\n",
       "      <td>1799</td>\n",
       "      <td>15.5</td>\n",
       "    </tr>\n",
       "    <tr>\n",
       "      <th>2</th>\n",
       "      <td>71</td>\n",
       "      <td>1805</td>\n",
       "      <td>7.0</td>\n",
       "    </tr>\n",
       "    <tr>\n",
       "      <th>3</th>\n",
       "      <td>73</td>\n",
       "      <td>1814</td>\n",
       "      <td>3.0</td>\n",
       "    </tr>\n",
       "    <tr>\n",
       "      <th>4</th>\n",
       "      <td>77</td>\n",
       "      <td>1804</td>\n",
       "      <td>6.0</td>\n",
       "    </tr>\n",
       "    <tr>\n",
       "      <th>5</th>\n",
       "      <td>85</td>\n",
       "      <td>1801</td>\n",
       "      <td>5.5</td>\n",
       "    </tr>\n",
       "    <tr>\n",
       "      <th>6</th>\n",
       "      <td>91</td>\n",
       "      <td>1802</td>\n",
       "      <td>10.0</td>\n",
       "    </tr>\n",
       "    <tr>\n",
       "      <th>7</th>\n",
       "      <td>92</td>\n",
       "      <td>1789</td>\n",
       "      <td>6.5</td>\n",
       "    </tr>\n",
       "    <tr>\n",
       "      <th>8</th>\n",
       "      <td>98</td>\n",
       "      <td>1784</td>\n",
       "      <td>10.0</td>\n",
       "    </tr>\n",
       "    <tr>\n",
       "      <th>9</th>\n",
       "      <td>101</td>\n",
       "      <td>1800</td>\n",
       "      <td>13.5</td>\n",
       "    </tr>\n",
       "  </tbody>\n",
       "</table>\n",
       "</div>"
      ],
      "text/plain": [
       "    ID    cz   +/-\n",
       "0   39  1818   7.0\n",
       "1   59  1799  15.5\n",
       "2   71  1805   7.0\n",
       "3   73  1814   3.0\n",
       "4   77  1804   6.0\n",
       "5   85  1801   5.5\n",
       "6   91  1802  10.0\n",
       "7   92  1789   6.5\n",
       "8   98  1784  10.0\n",
       "9  101  1800  13.5"
      ]
     },
     "execution_count": 2,
     "metadata": {},
     "output_type": "execute_result"
    }
   ],
   "source": [
    "df = pd.read_table(\"DF2_data_vD+18c.txt\",skiprows=[1])\n",
    "df"
   ]
  },
  {
   "cell_type": "code",
   "execution_count": 3,
   "id": "faa64f4a",
   "metadata": {},
   "outputs": [
    {
     "name": "stdout",
     "output_type": "stream",
     "text": [
      "velocity dispersion = 10.10 km/s\n"
     ]
    }
   ],
   "source": [
    "vel, dvel = df['cz'], df['+/-'] # velocities and uncertainties\n",
    "sigma = np.std(vel,ddof=1)\n",
    "print('velocity dispersion = %.2f km/s' % sigma)\n",
    "# note this calculation does not take the errors into account"
   ]
  },
  {
   "cell_type": "code",
   "execution_count": 4,
   "id": "ae45906a",
   "metadata": {},
   "outputs": [
    {
     "data": {
      "text/html": [
       "<div>\n",
       "<style scoped>\n",
       "    .dataframe tbody tr th:only-of-type {\n",
       "        vertical-align: middle;\n",
       "    }\n",
       "\n",
       "    .dataframe tbody tr th {\n",
       "        vertical-align: top;\n",
       "    }\n",
       "\n",
       "    .dataframe thead th {\n",
       "        text-align: right;\n",
       "    }\n",
       "</style>\n",
       "<table border=\"1\" class=\"dataframe\">\n",
       "  <thead>\n",
       "    <tr style=\"text-align: right;\">\n",
       "      <th></th>\n",
       "      <th>ID</th>\n",
       "      <th>cz</th>\n",
       "      <th>+/-</th>\n",
       "    </tr>\n",
       "  </thead>\n",
       "  <tbody>\n",
       "    <tr>\n",
       "      <th>5</th>\n",
       "      <td>85</td>\n",
       "      <td>1801</td>\n",
       "      <td>5.5</td>\n",
       "    </tr>\n",
       "    <tr>\n",
       "      <th>0</th>\n",
       "      <td>39</td>\n",
       "      <td>1818</td>\n",
       "      <td>7.0</td>\n",
       "    </tr>\n",
       "    <tr>\n",
       "      <th>3</th>\n",
       "      <td>73</td>\n",
       "      <td>1814</td>\n",
       "      <td>3.0</td>\n",
       "    </tr>\n",
       "    <tr>\n",
       "      <th>3</th>\n",
       "      <td>73</td>\n",
       "      <td>1814</td>\n",
       "      <td>3.0</td>\n",
       "    </tr>\n",
       "    <tr>\n",
       "      <th>7</th>\n",
       "      <td>92</td>\n",
       "      <td>1789</td>\n",
       "      <td>6.5</td>\n",
       "    </tr>\n",
       "    <tr>\n",
       "      <th>9</th>\n",
       "      <td>101</td>\n",
       "      <td>1800</td>\n",
       "      <td>13.5</td>\n",
       "    </tr>\n",
       "    <tr>\n",
       "      <th>3</th>\n",
       "      <td>73</td>\n",
       "      <td>1814</td>\n",
       "      <td>3.0</td>\n",
       "    </tr>\n",
       "    <tr>\n",
       "      <th>5</th>\n",
       "      <td>85</td>\n",
       "      <td>1801</td>\n",
       "      <td>5.5</td>\n",
       "    </tr>\n",
       "    <tr>\n",
       "      <th>2</th>\n",
       "      <td>71</td>\n",
       "      <td>1805</td>\n",
       "      <td>7.0</td>\n",
       "    </tr>\n",
       "    <tr>\n",
       "      <th>4</th>\n",
       "      <td>77</td>\n",
       "      <td>1804</td>\n",
       "      <td>6.0</td>\n",
       "    </tr>\n",
       "  </tbody>\n",
       "</table>\n",
       "</div>"
      ],
      "text/plain": [
       "    ID    cz   +/-\n",
       "5   85  1801   5.5\n",
       "0   39  1818   7.0\n",
       "3   73  1814   3.0\n",
       "3   73  1814   3.0\n",
       "7   92  1789   6.5\n",
       "9  101  1800  13.5\n",
       "3   73  1814   3.0\n",
       "5   85  1801   5.5\n",
       "2   71  1805   7.0\n",
       "4   77  1804   6.0"
      ]
     },
     "execution_count": 4,
     "metadata": {},
     "output_type": "execute_result"
    }
   ],
   "source": [
    "np.random.seed(0)\n",
    "df_boot = resample(df)\n",
    "df_boot"
   ]
  },
  {
   "cell_type": "code",
   "execution_count": 5,
   "id": "6a009495",
   "metadata": {},
   "outputs": [
    {
     "name": "stdout",
     "output_type": "stream",
     "text": [
      "bootstrapped velocity dispersion = 8.92 km/s\n"
     ]
    }
   ],
   "source": [
    "vel_boot, dvel_boot = df_boot['cz'], df_boot['+/-'] # velocities and uncertainties\n",
    "print('bootstrapped velocity dispersion = %.2f km/s' % np.std(vel_boot,ddof=1))\n",
    "# note this calculation does not take the errors into account"
   ]
  },
  {
   "cell_type": "code",
   "execution_count": 6,
   "id": "455a7c49",
   "metadata": {},
   "outputs": [],
   "source": [
    "plt.rcParams.update({'font.size': 21})"
   ]
  },
  {
   "cell_type": "code",
   "execution_count": 7,
   "id": "024e82ca",
   "metadata": {},
   "outputs": [
    {
     "data": {
      "text/plain": [
       "Text(0, 0.5, '$N(v)$')"
      ]
     },
     "execution_count": 7,
     "metadata": {},
     "output_type": "execute_result"
    },
    {
     "data": {
      "image/png": "[encoded data removed]",
      "text/plain": [
       "<Figure size 648x576 with 1 Axes>"
      ]
     },
     "metadata": {
      "needs_background": "light"
     },
     "output_type": "display_data"
    }
   ],
   "source": [
    "fig1 = plt.figure(figsize=(9,8))\n",
    "plt.hist(vel,label='original data',alpha=0.5)\n",
    "plt.hist(vel_boot,label='bootstrapped',alpha=0.5)\n",
    "plt.legend(loc='best')\n",
    "plt.tick_params('both', length=12, width=1.3, which='major')\n",
    "plt.xlabel('$v$ [km s$^{-1}$]')\n",
    "plt.ylabel('$N(v)$')"
   ]
  },
  {
   "cell_type": "markdown",
   "id": "71b7a5d0",
   "metadata": {},
   "source": [
    "Now do multiple bootstrapping realizations, $N_\\mathrm{MC} \\sim N (\\ln N)^2$"
   ]
  },
  {
   "cell_type": "code",
   "execution_count": 8,
   "id": "233adac8",
   "metadata": {},
   "outputs": [],
   "source": [
    "N_data = len(df['cz']) # 10\n",
    "N_MC = int( N_data * np.log(N_data)**2 ) # 53\n",
    "sigma_boot = np.zeros(N_MC)\n",
    "for i in range(N_MC) :\n",
    "    df_boot = resample(df)\n",
    "    vel_boot, dvel_boot = df_boot['cz'], df_boot['+/-']\n",
    "    sigma_boot[i] = np.std(vel_boot,ddof=1)\n",
    "#    print('bootstrapped velocity dispersion = %.2f km/s' % sigma_boot[i])"
   ]
  },
  {
   "cell_type": "code",
   "execution_count": 9,
   "id": "693bb792",
   "metadata": {},
   "outputs": [
    {
     "data": {
      "text/plain": [
       "Text(0, 0.5, '$P(\\\\sigma)$')"
      ]
     },
     "execution_count": 9,
     "metadata": {},
     "output_type": "execute_result"
    },
    {
     "data": {
      "image/png": "[encoded data removed]",
      "text/plain": [
       "<Figure size 648x576 with 1 Axes>"
      ]
     },
     "metadata": {
      "needs_background": "light"
     },
     "output_type": "display_data"
    }
   ],
   "source": [
    "fig2 = plt.figure(figsize=(9,8))\n",
    "plt.hist(sigma_boot,bins='auto')\n",
    "plt.plot([sigma,sigma],[0,12.5]) # original measurement\n",
    "plt.tick_params('both', length=12, width=1.3, which='major')\n",
    "plt.xlabel('$\\sigma$ [km s$^{-1}$]')\n",
    "plt.ylabel('$P(\\sigma)$')"
   ]
  },
  {
   "cell_type": "code",
   "execution_count": null,
   "id": "41a2ae3d",
   "metadata": {},
   "outputs": [],
   "source": []
  }
 ],
 "metadata": {
  "kernelspec": {
   "display_name": "Python 3 (ipykernel)",
   "language": "python",
   "name": "python3"
  },
  "language_info": {
   "codemirror_mode": {
    "name": "ipython",
    "version": 3
   },
   "file_extension": ".py",
   "mimetype": "text/x-python",
   "name": "python",
   "nbconvert_exporter": "python",
   "pygments_lexer": "ipython3",
   "version": "3.9.7"
  }
 },
 "nbformat": 4,
 "nbformat_minor": 5
}
